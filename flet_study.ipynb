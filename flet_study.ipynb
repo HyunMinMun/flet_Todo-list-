{
 "cells": [
  {
   "cell_type": "code",
   "execution_count": 12,
   "id": "e3b87724-7045-435b-b6f8-bd9c19b41595",
   "metadata": {},
   "outputs": [],
   "source": [
    "import flet as ft\n",
    "\n",
    "def main(page:ft.page):\n",
    "    pass\n",
    "\n",
    "ft.app(target = main)"
   ]
  },
  {
   "cell_type": "code",
   "execution_count": 13,
   "id": "c986981d-f56e-47b2-8e06-4c0f1ac6f2fb",
   "metadata": {},
   "outputs": [],
   "source": [
    "import flet as ft\n",
    "\n",
    "def main(page:ft.page):\n",
    "    page.title = \"Calc App\"\n",
    "    result = ft.Text(value =\"0\")\n",
    "\n",
    "    page.add(\n",
    "        result,\n",
    "    ft.ElevatedButton(text = \"AC\"),\n",
    "    ft.ElevatedButton(text = \"+/-\"),\n",
    "    ft.ElevatedButton(text = \"%\"),\n",
    "    ft.ElevatedButton(text = \"/\"),\n",
    "    ft.ElevatedButton(text = \"7\"),\n",
    "    ft.ElevatedButton(text = \"8\"),\n",
    "    ft.ElevatedButton(text = \"9\"),\n",
    "    ft.ElevatedButton(text = \"*\"),\n",
    "    ft.ElevatedButton(text = \"4\"),\n",
    "    ft.ElevatedButton(text = \"5\"),\n",
    "    ft.ElevatedButton(text = \"6\"),\n",
    "    ft.ElevatedButton(text = \"-\"),\n",
    "    ft.ElevatedButton(text = \"1\"),\n",
    "    ft.ElevatedButton(text = \"2\"),\n",
    "    ft.ElevatedButton(text = \"3\"),\n",
    "    ft.ElevatedButton(text = \"+\"),\n",
    "    ft.ElevatedButton(text = \"0\"),\n",
    "    ft.ElevatedButton(text = \".\"),\n",
    "    ft.ElevatedButton(text = \"=\"),\n",
    "    )\n",
    "\n",
    "ft.app(target = main)"
   ]
  },
  {
   "cell_type": "code",
   "execution_count": null,
   "id": "a4a3891c-6d04-453f-9325-c63b6fa1cac4",
   "metadata": {},
   "outputs": [],
   "source": []
  }
 ],
 "metadata": {
  "kernelspec": {
   "display_name": "Python 3 (ipykernel)",
   "language": "python",
   "name": "python3"
  },
  "language_info": {
   "codemirror_mode": {
    "name": "ipython",
    "version": 3
   },
   "file_extension": ".py",
   "mimetype": "text/x-python",
   "name": "python",
   "nbconvert_exporter": "python",
   "pygments_lexer": "ipython3",
   "version": "3.11.4"
  }
 },
 "nbformat": 4,
 "nbformat_minor": 5
}
